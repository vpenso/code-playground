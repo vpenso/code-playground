{
 "cells": [
  {
   "cell_type": "markdown",
   "id": "4a376acd-d2ab-44ec-a927-015b24c8c043",
   "metadata": {},
   "source": [
    "# Simplest Neural Network"
   ]
  },
  {
   "cell_type": "code",
   "execution_count": 11,
   "id": "53534ddd-ffc3-48ef-98b3-18e384366030",
   "metadata": {},
   "outputs": [
    {
     "name": "stdout",
     "output_type": "stream",
     "text": [
      "0.8500000000000001\n",
      "0.9500000000000001\n",
      "1.0\n",
      "0.9\n"
     ]
    }
   ],
   "source": [
    "weight = 0.1\n",
    "def neural_network(input, weight):\n",
    "    prediction = input * weight\n",
    "    return prediction\n",
    "\n",
    "# list of input values\n",
    "number_of_toes = [8.5, 9.5, 10, 9]\n",
    "for value in number_of_toes:\n",
    "    prediction = neural_network(value, weight)\n",
    "    print(prediction)"
   ]
  },
  {
   "cell_type": "markdown",
   "id": "a87f6e51-34fe-4eb0-9909-5556d18a4b0e",
   "metadata": {},
   "source": [
    "Simplest form of a neuronal network:\n",
    "\n",
    "- ...multiplikation of an `input` value with a `weight`\n",
    "- Big weight amplifies ...small weight deminishes\n",
    "- The weight calibrates how sensetive a neutral network reacts to an input\n",
    "\n",
    "# Multiple Inputs"
   ]
  },
  {
   "cell_type": "code",
   "execution_count": 17,
   "id": "13cc689e-011b-45a6-a730-e097950b02a1",
   "metadata": {},
   "outputs": [
    {
     "name": "stdout",
     "output_type": "stream",
     "text": [
      "0.9800000000000001\n",
      "1.11\n",
      "1.1600000000000001\n",
      "1.08\n"
     ]
    }
   ],
   "source": [
    "weights = [0.1, 0.2, 0]\n",
    "def neural_network(input, weights):\n",
    "    prediction = weight_sum(input, weights)\n",
    "    return prediction\n",
    "\n",
    "# Calculate a weighted sum of all inputs\n",
    "def weight_sum(input, weights):\n",
    "    assert(len(input) == len(weights))\n",
    "    output = 0\n",
    "    for i in range(len(weights)):\n",
    "        output += (input[i] * weights[i])\n",
    "    return output\n",
    "\n",
    "number_of_toes = [8.5, 9.5, 10, 9]\n",
    "win_record = [0.65, 0.8, 0.8, 0.9]\n",
    "number_fans = [1.2, 1.3, 0.5, 1.0]\n",
    "for i in range(len(win_record)):\n",
    "    input = [number_of_toes[i], win_record[i], number_fans[i]]\n",
    "    prediction = neural_network(input, weights)\n",
    "    print(prediction)"
   ]
  },
  {
   "cell_type": "markdown",
   "id": "a6d4c43f-852c-42a9-ace3-9e37ff63bc53",
   "metadata": {},
   "source": [
    "Process multiple inputs simultaniously...\n",
    "\n",
    "- ...combine different infromation into a single prediction\n",
    "- ...each input weighted individually\n",
    "- ...aka wieghted sum or **scalar product** (or dot-product)\n"
   ]
  },
  {
   "cell_type": "code",
   "execution_count": 21,
   "id": "92c61374-9b35-4761-95b1-3f16c215d039",
   "metadata": {},
   "outputs": [
    {
     "name": "stdout",
     "output_type": "stream",
     "text": [
      "0.9800000000000001\n",
      "1.11\n",
      "1.16\n",
      "1.08\n"
     ]
    }
   ],
   "source": [
    "# implementation using the NumPy library\n",
    "import numpy as np\n",
    "weights = np.array([0.1, 0.2, 0])\n",
    "\n",
    "def neural_network(input, weights):\n",
    "    prediction = input.dot(weights)\n",
    "    return prediction\n",
    "\n",
    "number_of_toes = np.array([8.5, 9.5, 10, 9])\n",
    "win_record = np.array([0.65, 0.8, 0.8, 0.9])\n",
    "number_fans = np.array([1.2, 1.3, 0.5, 1.0])\n",
    "for i in range(len(win_record)):\n",
    "    input = np.array([number_of_toes[i], win_record[i], number_fans[i]])\n",
    "    prediction = neural_network(input, weights)\n",
    "    print(prediction)"
   ]
  },
  {
   "cell_type": "markdown",
   "id": "f37eb573-a7d9-48ba-b4ab-3726a3f0c22f",
   "metadata": {},
   "source": [
    "# Multiple Predictions"
   ]
  },
  {
   "cell_type": "code",
   "execution_count": 25,
   "id": "1b0942b1-b101-4d51-a07f-de10724bd4fe",
   "metadata": {},
   "outputs": [
    {
     "name": "stdout",
     "output_type": "stream",
     "text": [
      "[0.195, 0.13, 0.5850000000000001]\n",
      "[0.24, 0.16000000000000003, 0.7200000000000001]\n",
      "[0.24, 0.16000000000000003, 0.7200000000000001]\n",
      "[0.27, 0.18000000000000002, 0.81]\n"
     ]
    }
   ],
   "source": [
    "weights = [0.3, 0.2, 0.9]\n",
    "def neural_network(input, weights):\n",
    "    prediction = ele_mul(input, weights)\n",
    "    return prediction\n",
    "\n",
    "def ele_mul(value, vector):\n",
    "    output = [0, 0, 0]\n",
    "    assert(len(output) == len(vector))\n",
    "    for i in range(len(vector)):\n",
    "        output[i] = value * vector[i]\n",
    "    return output\n",
    "\n",
    "win_record = [0.65, 0.8,0.8, 0.9]\n",
    "for value in win_record:\n",
    "    prediction = neural_network(value, weights)\n",
    "    print(prediction)\n",
    "    \n",
    "                   "
   ]
  },
  {
   "cell_type": "markdown",
   "id": "54ad4099-eaac-4903-bfc5-68211d6bf296",
   "metadata": {},
   "source": [
    "Single input used as input for multiple predicitions...\n",
    "\n",
    "- ...where each predicition is caculated with a dedicated `weight`\n",
    "- ...each prediction completely independent"
   ]
  },
  {
   "cell_type": "markdown",
   "id": "3639972e-9b17-484c-9c15-bebd244bd878",
   "metadata": {},
   "source": [
    "# Gradient Decent\n",
    "\n",
    "Machene learning == reducing error ...which wieghts to select for precise predictions?\n",
    "\n",
    "- MSE (mean squared erro8) ...error margin ...tolerrance...always positive\n",
    "- Calculate `weight` based on prediction accuracy ...goal `error` queal to zero \n",
    "  - On average ...change weights on big errors ...ignore small/maginal errors\n",
    "  - MSE n<1 small ...n>1 big"
   ]
  },
  {
   "cell_type": "code",
   "execution_count": 2,
   "id": "1bbb4804-a0cf-4b1f-8b20-aae7c8932c01",
   "metadata": {},
   "outputs": [
    {
     "name": "stdout",
     "output_type": "stream",
     "text": [
      "0.30250000000000005\n"
     ]
    }
   ],
   "source": [
    "weight = 0.5\n",
    "input = 0.5\n",
    "goal_pred = 0.8 \n",
    "\n",
    "pred = input * weight\n",
    "# square grantes that the error is positive\n",
    "error = (pred - goal_pred) ** 2\n",
    "print(error)"
   ]
  },
  {
   "cell_type": "markdown",
   "id": "71575369-94b6-4ada-a1ac-f510a58e4efd",
   "metadata": {},
   "source": [
    "Hot & cold learning\n",
    "\n",
    "- ...adjust weights up/down ...see how the error changes\n",
    "- ...until error disappears (become very small)\n",
    "- Gradient decent...\n",
    "  - ...calculate adjustment direction & amount (correction scale)\n",
    "  - ...multiply with input"
   ]
  }
 ],
 "metadata": {
  "kernelspec": {
   "display_name": "Python 3 (ipykernel)",
   "language": "python",
   "name": "python3"
  },
  "language_info": {
   "codemirror_mode": {
    "name": "ipython",
    "version": 3
   },
   "file_extension": ".py",
   "mimetype": "text/x-python",
   "name": "python",
   "nbconvert_exporter": "python",
   "pygments_lexer": "ipython3",
   "version": "3.12.3"
  }
 },
 "nbformat": 4,
 "nbformat_minor": 5
}
