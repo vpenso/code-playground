{
 "cells": [
  {
   "cell_type": "code",
   "execution_count": 11,
   "id": "f5d1958d-f35c-40cc-bd0e-b95ead8d2a33",
   "metadata": {},
   "outputs": [],
   "source": [
    "import matplotlib.pyplot as plt\n",
    "import numpy as np\n",
    "%matplotlib inline"
   ]
  },
  {
   "cell_type": "markdown",
   "id": "ccde5e79-8d40-4f4d-82ab-abfcb7da594d",
   "metadata": {
    "editable": true,
    "slideshow": {
     "slide_type": ""
    },
    "tags": []
   },
   "source": [
    "# Perceptron\n",
    "\n",
    "Invented by Frank Rosenblatt (1957)\n",
    "\n",
    "- On of the first implementations of an **Artificial Neural Network** (ANN)\n",
    "- Uses a step function to calculate decisions, called **Linear Threshold Unit** (LTU)\n",
    "  - ...in analogy to the biological neuron which fires upon reaching a input threshold\n",
    "  - ...the threshold can have any value\n",
    "  - ...if the threshold value is `0` then is is called a heaviside-function (after Oliver Heaviside)\n",
    "\n",
    "Components of a perceptron:\n",
    "\n",
    "1. Inputs typically represented as a vector\n",
    "2. Weights\n",
    "3. Weighted sum\n",
    "4. Step function\n",
    "5. Output\n",
    "\n",
    "## Step Function\n",
    "\n",
    "Function `decision` implements a step function with a threshold at `1`"
   ]
  },
  {
   "cell_type": "code",
   "execution_count": 4,
   "id": "0ebf876b-6ae9-4018-bfc0-b4b40ff629eb",
   "metadata": {},
   "outputs": [],
   "source": [
    "def decision(sum):\n",
    "    \"\"\"calculate a decision for sum\n",
    "        Input: sum\n",
    "        Output: 1, if sum >= 1,\n",
    "                0 otherwise\n",
    "    \"\"\"\n",
    "    if sum >= 1:\n",
    "        return 1\n",
    "    else:\n",
    "        return 0"
   ]
  },
  {
   "cell_type": "markdown",
   "id": "02da5554-5575-4d43-bbc0-e3ab6aaddb47",
   "metadata": {},
   "source": [
    "Given a couple of example `inputs`..."
   ]
  },
  {
   "cell_type": "code",
   "execution_count": 17,
   "id": "6e1d59bc-2ea8-488f-9e10-1af4801b434e",
   "metadata": {},
   "outputs": [
    {
     "name": "stdout",
     "output_type": "stream",
     "text": [
      "[0, 0, 0, 1, 1, 1]\n"
     ]
    }
   ],
   "source": [
    "inputs = [-1, 0, 0.999, 1, 1.001, 2]\n",
    "outputs = [decision(i) for i in inputs]\n",
    "print(outputs)"
   ]
  },
  {
   "cell_type": "markdown",
   "id": "5294ecc9-e2f5-4b46-a9e7-ab6641bca80e",
   "metadata": {},
   "source": [
    "...use the step functions to calculate the outputs"
   ]
  },
  {
   "cell_type": "code",
   "execution_count": 21,
   "id": "cccb721d-1311-4303-9c4f-40eaf52f0066",
   "metadata": {},
   "outputs": [
    {
     "data": {
      "image/png": "[encoded data removed]",
      "text/plain": [
       "<Figure size 640x480 with 1 Axes>"
      ]
     },
     "metadata": {},
     "output_type": "display_data"
    }
   ],
   "source": [
    "plt.step(inputs, outputs, '-b', label='step')\n",
    "plt.axhline(0, color='lightgray', lw=1)\n",
    "plt.axvline(0, color='lightgray', lw=1)\n",
    "plt.xlabel('Sum')\n",
    "plt.ylabel('Result')\n",
    "plt.title('Step Function')\n",
    "plt.legend(loc='lower right')\n",
    "plt.show()"
   ]
  },
  {
   "cell_type": "markdown",
   "id": "60a64617-76dd-4542-8cf7-e09eee31bba6",
   "metadata": {},
   "source": [
    "## Inputs\n",
    "\n",
    "**Dimension** ...the number of inputs"
   ]
  },
  {
   "cell_type": "code",
   "execution_count": null,
   "id": "af414a3b-a9ec-42a0-8e56-dd696de18de3",
   "metadata": {},
   "outputs": [],
   "source": []
  }
 ],
 "metadata": {
  "kernelspec": {
   "display_name": "Python 3 (ipykernel)",
   "language": "python",
   "name": "python3"
  },
  "language_info": {
   "codemirror_mode": {
    "name": "ipython",
    "version": 3
   },
   "file_extension": ".py",
   "mimetype": "text/x-python",
   "name": "python",
   "nbconvert_exporter": "python",
   "pygments_lexer": "ipython3",
   "version": "3.11.2"
  }
 },
 "nbformat": 4,
 "nbformat_minor": 5
}
