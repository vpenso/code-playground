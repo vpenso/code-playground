{
 "cells": [
  {
   "cell_type": "markdown",
   "id": "ccde5e79-8d40-4f4d-82ab-abfcb7da594d",
   "metadata": {},
   "source": [
    "# Decisions"
   ]
  },
  {
   "cell_type": "code",
   "execution_count": 10,
   "id": "0ebf876b-6ae9-4018-bfc0-b4b40ff629eb",
   "metadata": {},
   "outputs": [
    {
     "name": "stdout",
     "output_type": "stream",
     "text": [
      "1\n"
     ]
    }
   ],
   "source": [
    "def decision(sum):\n",
    "    \"\"\"calculate a decision for sum\n",
    "        Input: sum\n",
    "        Output: 1, if sum >= 1,\n",
    "                0 otherwise\n",
    "    \"\"\"\n",
    "    if sum >= 1:\n",
    "        return 1\n",
    "    else:\n",
    "        return 0\n",
    "\n",
    "\n",
    "result = decision(1)\n",
    "print(result)"
   ]
  },
  {
   "cell_type": "markdown",
   "id": "c44b94c4-5db0-4448-92bf-b15ba35f4b5a",
   "metadata": {},
   "source": []
  }
 ],
 "metadata": {
  "kernelspec": {
   "display_name": "Python 3 (ipykernel)",
   "language": "python",
   "name": "python3"
  },
  "language_info": {
   "codemirror_mode": {
    "name": "ipython",
    "version": 3
   },
   "file_extension": ".py",
   "mimetype": "text/x-python",
   "name": "python",
   "nbconvert_exporter": "python",
   "pygments_lexer": "ipython3",
   "version": "3.11.2"
  }
 },
 "nbformat": 4,
 "nbformat_minor": 5
}
